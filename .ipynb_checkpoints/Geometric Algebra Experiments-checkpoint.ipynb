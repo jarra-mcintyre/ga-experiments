{
 "cells": [
  {
   "cell_type": "markdown",
   "metadata": {},
   "source": [
    "# Basic 2D Multivector Implementation"
   ]
  },
  {
   "cell_type": "code",
   "execution_count": 90,
   "metadata": {},
   "outputs": [],
   "source": [
    "import math\n",
    "\n",
    "class V2:\n",
    "    def __init__(self,e1=0,e2=0):\n",
    "        self.e1 = e1\n",
    "        self.e2 = e2\n",
    "    \n",
    "    def multi(self):\n",
    "        return G2(s=0,e1=self.e1,e2=self.e2,i=0)\n",
    "    \n",
    "    def magsq(self):\n",
    "        return self.e1*self.e1 + self.e2*self.e2\n",
    "    \n",
    "    def mag(self):\n",
    "        return math.sqrt(self.magsq())\n",
    "\n",
    "class G2:\n",
    "    def __init__(self,s=0,e1=0,e2=0,i=0):\n",
    "        self.s = s\n",
    "        self.e1 = e1\n",
    "        self.e2 = e2\n",
    "        self.i = i\n",
    "    \n",
    "    def __add__(A,B):\n",
    "        return G2(s=A.s+B.s, e1=A.e1+B.e1, e2=A.e2+B.e2, i=A.i+B.i)\n",
    "    \n",
    "    def __sub__(A,B):\n",
    "        return G2(s=A.s-B.s, e1=A.e1-B.e1, e2=A.e2-B.e2, i=A.i-B.i)\n",
    "    \n",
    "    def __mul__(A,B):\n",
    "        if isinstance(B,G2):\n",
    "            return G2(\n",
    "                s  = A.s*B.s  + A.e1*B.e1 + A.e2*B.e2 - A.i*B.i,\n",
    "                e1 = A.s*B.e1 + A.e1*B.s  - A.e2*B.i  + A.i*B.e2,\n",
    "                e2 = A.s*B.e2 + A.e1*B.i  + A.e2*B.s  - A.i*B.e1,\n",
    "                i  = A.s*B.i  + A.e1*B.e2 - A.e2*B.e1 + A.i*B.s\n",
    "            )\n",
    "        else:\n",
    "            return G2(s=A.s*B, e1=A.e1*B, e2=A.e2*B, i=A.i*B)\n",
    "    \n",
    "    def __div__(A,B):\n",
    "        if isinstance(B,G2):\n",
    "            return A * B.inv()\n",
    "        else:\n",
    "            return G2(s=A.s/B, e1=A.e1/B, e2=A.e2/B, i=A.i/B)\n",
    "    \n",
    "    def __truediv__(A,B):\n",
    "        return A.__div__(B)\n",
    "    \n",
    "    def inv(self):\n",
    "        raise RuntimeError('unimplemnted')\n",
    "    \n",
    "    def vec(self):\n",
    "        return V2(e1=self.e1,e2=self.e2)\n",
    "    \n",
    "    def __repr__(self):\n",
    "        return 'G2(s=%f,e1=%f,e2=%f,i=%f)' % (self.s, self.e1, self.e2, self.i)\n",
    "    \n",
    "    def __str__(self):\n",
    "        return '%f + %fe1 + %fe2 + %fI' % (self.s, self.e1, self.e2, self.i)\n",
    "\n",
    "def inner(a,b):\n",
    "    A,B = a.multi(),b.multi()\n",
    "    return (A*B + B*A)*0.5\n",
    "\n",
    "def outer(a,b):\n",
    "    A,B = a.multi(),b.multi()\n",
    "    return (A*B - B*A)*0.5\n",
    "\n",
    "def sine(a,b):\n",
    "    return (outer(a,b) / (a.mag() * b.mag())).i\n",
    "\n",
    "def cosine(a,b):\n",
    "    return (inner(a,b) / (a.mag() * b.mag())).s"
   ]
  },
  {
   "cell_type": "code",
   "execution_count": 62,
   "metadata": {},
   "outputs": [
    {
     "data": {
      "text/plain": [
       "G2(s=0.000000,e1=0.000000,e2=0.000000,i=1.000000)"
      ]
     },
     "execution_count": 62,
     "metadata": {},
     "output_type": "execute_result"
    }
   ],
   "source": [
    "G2(0,1,0,0)*G2(0,0,1,0)"
   ]
  },
  {
   "cell_type": "code",
   "execution_count": 63,
   "metadata": {},
   "outputs": [
    {
     "data": {
      "text/plain": [
       "G2(s=0.000000,e1=0.000000,e2=0.000000,i=-1.000000)"
      ]
     },
     "execution_count": 63,
     "metadata": {},
     "output_type": "execute_result"
    }
   ],
   "source": [
    "G2(0,0,1,0)*G2(0,1,0,0)"
   ]
  },
  {
   "cell_type": "code",
   "execution_count": 64,
   "metadata": {},
   "outputs": [
    {
     "data": {
      "text/plain": [
       "G2(s=1.000000,e1=0.000000,e2=0.000000,i=0.000000)"
      ]
     },
     "execution_count": 64,
     "metadata": {},
     "output_type": "execute_result"
    }
   ],
   "source": [
    "G2(0,1,0,0)*G2(0,1,0,0)"
   ]
  },
  {
   "cell_type": "code",
   "execution_count": 65,
   "metadata": {},
   "outputs": [
    {
     "data": {
      "text/plain": [
       "G2(s=2.000000,e1=2.000000,e2=2.000000,i=2.000000)"
      ]
     },
     "execution_count": 65,
     "metadata": {},
     "output_type": "execute_result"
    }
   ],
   "source": [
    "G2(1,1,1,1)*G2(1,1,1,1)"
   ]
  },
  {
   "cell_type": "code",
   "execution_count": 66,
   "metadata": {},
   "outputs": [
    {
     "data": {
      "text/plain": [
       "G2(s=0.000000,e1=-1.000000,e2=0.000000,i=0.000000)"
      ]
     },
     "execution_count": 66,
     "metadata": {},
     "output_type": "execute_result"
    }
   ],
   "source": [
    "G2(0,0,1,0)*G2(0,1,0,0)*G2(0,0,1,0)"
   ]
  },
  {
   "cell_type": "code",
   "execution_count": 67,
   "metadata": {},
   "outputs": [
    {
     "data": {
      "text/plain": [
       "G2(s=2.000000,e1=2.000000,e2=2.000000,i=2.000000)"
      ]
     },
     "execution_count": 67,
     "metadata": {},
     "output_type": "execute_result"
    }
   ],
   "source": [
    "G2(1,1,1,1)*2"
   ]
  },
  {
   "cell_type": "code",
   "execution_count": 68,
   "metadata": {},
   "outputs": [
    {
     "data": {
      "text/plain": [
       "G2(s=0.000000,e1=0.000000,e2=0.000000,i=71.000000)"
      ]
     },
     "execution_count": 68,
     "metadata": {},
     "output_type": "execute_result"
    }
   ],
   "source": [
    "outer(V2(15,14), V2(11,15))"
   ]
  },
  {
   "cell_type": "code",
   "execution_count": 74,
   "metadata": {
    "scrolled": true
   },
   "outputs": [
    {
     "data": {
      "text/plain": [
       "0.1860284002648687"
      ]
     },
     "execution_count": 74,
     "metadata": {},
     "output_type": "execute_result"
    }
   ],
   "source": [
    "sine(V2(15,14),V2(11,15))"
   ]
  },
  {
   "cell_type": "code",
   "execution_count": 75,
   "metadata": {},
   "outputs": [],
   "source": [
    "a, b = V2(15,14),V2(11,15)\n",
    "assert sine(a,b)**2 + cosine(a,b)**2 == 1.0"
   ]
  },
  {
   "cell_type": "markdown",
   "metadata": {},
   "source": [
    "# N-Dimensional Multivector Implementation"
   ]
  },
  {
   "cell_type": "code",
   "execution_count": 5,
   "metadata": {},
   "outputs": [],
   "source": [
    "import math\n",
    "import itertools\n",
    "import functools\n",
    "\n",
    "def fls(x):\n",
    "    if x < 0:\n",
    "        return 32\n",
    "    elif x == 0:\n",
    "        return 0\n",
    "    else:\n",
    "        return math.floor(math.log2(x)) + 1\n",
    "\n",
    "def blade_mul(u,v):\n",
    "    \"\"\"\n",
    "    u,v should be int bitfields representing the basis vectors of the blade\n",
    "    For the scalar blade x = 0\n",
    "    Returns a tuple of a scalar multiple (1 or -1) and a bitfield representing the new basis vectors of the blade\n",
    "    \"\"\"\n",
    "    uset, swaps = 0, 0\n",
    "    for i in reversed(range(0, fls(u))):\n",
    "        swaps += uset * ((v & 1 << i) >> i)\n",
    "        uset += (u & 1 << i) >> i\n",
    "    return (1 - 2 * (swaps & 1), u ^ v)\n",
    "\n",
    "def blade_str(x, dims=None):\n",
    "    if x == 0:\n",
    "        return '1'\n",
    "    if dims is not None and x == 2**dims-1:\n",
    "        return 'I'\n",
    "    else:\n",
    "        res = ''\n",
    "        for i in range(0,32):\n",
    "            if x & 1 << i != 0:\n",
    "                res += 'σ%d' % (i+1)\n",
    "        return res\n",
    "\n",
    "def natural_ordering(dims):\n",
    "    ordering = [0]\n",
    "    basis = [1 << i for i in range(0,dims)]\n",
    "    for i in range(1,dims):\n",
    "        for perms in itertools.combinations(basis, i):\n",
    "            ordering.append(functools.reduce(lambda b, acc: acc ^ b, perms))\n",
    "    ordering.append(2**dims-1)\n",
    "    return ordering\n",
    "\n",
    "def mult_table(dims):\n",
    "    ordering, header = natural_ordering(dims), ['']\n",
    "    for j in ordering:\n",
    "        header.append(blade_str(j, dims=dims))\n",
    "    rows = [header]\n",
    "    for i in ordering:    \n",
    "        row = [blade_str(i, dims=dims)]\n",
    "        for j in ordering:\n",
    "            sign, blade = blade_mul(i, j)\n",
    "            row.append('%s%s' % ('' if sign == 1 else '-', blade_str(blade, dims=dims)))\n",
    "        rows.append(row)\n",
    "    return rows\n",
    "\n",
    "class V:\n",
    "    def __init__(self,coefs):\n",
    "        self.coefs = coefs\n",
    "    \n",
    "    def __getitem__(self,i):\n",
    "        return self.coefs[i]\n",
    "    \n",
    "    def mv(self):\n",
    "        coefs = [0]*(2**len(self.coefs))\n",
    "        for i in range(0,len(self.coefs)):\n",
    "            coefs[1 << i] = self[i]\n",
    "        return MV(dims=len(self.coefs), coefs=coefs)\n",
    "    \n",
    "    def dot(A,B):\n",
    "        if len(A.coefs) != len(B.coefs):\n",
    "            raise RuntimeError('Inner product can only be calculate for vectors of the same length')\n",
    "        return functools.reduce(lambda v, acc: acc + v[0]*v[1], zip(A.coefs,B.coefs), 0)\n",
    "    \n",
    "    def cross(A,B):\n",
    "        if len(A.coefs) != 3 or len(B.coefs) != 3:\n",
    "            raise RuntimeError('Cross product can only be calculated for 3 dimensional vectors')\n",
    "        return V([A[1]*B[2] - A[2]*B[1], A[2]*B[0] - A[0]*B[2], A[0]*B[1] - A[1]*B[0]])\n",
    "    \n",
    "    def __repr__(self):\n",
    "        return 'V(coefs=%r)' % self.coefs\n",
    "    \n",
    "    def __str__(self):\n",
    "        res = []\n",
    "        for i in range(0,len(self.coefs)):\n",
    "            if self[i] != 0:\n",
    "                res.append('%g%s' % (self[i], blade_str(1 << i)))\n",
    "        return ' + '.join(res) if res else '0'\n",
    "\n",
    "class MV:\n",
    "    def __init__(self,dims,coefs=None):\n",
    "        ncoefs = 2**dims\n",
    "        if coefs is not None and len(coefs) != ncoefs:\n",
    "            raise RuntimeError('Invalid number of multivector coefficients. Expected %d got %d' % (ncoefs, len(coefs)))\n",
    "        self.dims = dims\n",
    "        self.coefs = coefs or ([0]**ncoefs)\n",
    "    \n",
    "    def __getitem__(self,i):\n",
    "        return self.coefs[i]\n",
    "    \n",
    "    def _check_dims(self,o):\n",
    "        if self.dims != o.dims:\n",
    "            raise RuntimeError('Multivectors do not have the same dimensionality')\n",
    "    \n",
    "    def _check_vec_dims(self,o):\n",
    "        if self.dims != len(o.coefs):\n",
    "            raise RuntimeError('Vector and Multivector do not have the same dimensionality')\n",
    "    \n",
    "    def _mul_scalar(A,s):\n",
    "        return MV(dims=A.dims, coefs=[a*s for a in A])\n",
    "    \n",
    "    def _mul_vec_into(X,y,reverse,coefs):\n",
    "        for i in range(0,len(X.coefs)):\n",
    "            for j in range(0,X.dims):\n",
    "                sign,index = blade_mul(i,1 << j) if not reverse else blade_mul(1 << j,i)\n",
    "                coefs[index] += sign*X[i]*y[j]\n",
    "    \n",
    "    def _mul_vec(X,y,reverse):\n",
    "        X._check_vec_dims(y)\n",
    "        coefs = [0] * len(X.coefs)\n",
    "        X._mul_vec_into(y,reverse,coefs)\n",
    "        return MV(dims=X.dims, coefs=coefs)\n",
    "    \n",
    "    def _mul_mv(A,B,reverse):\n",
    "        A._check_dims(B)\n",
    "        coefs = [0] * len(A.coefs)\n",
    "        for i in range(0,len(A.coefs)):\n",
    "            for j in range(0,len(A.coefs)):\n",
    "                sign,index = blade_mul(i,j) if not reverse else blade_mul(j,i)\n",
    "                coefs[index] += sign*A[i]*B[j]\n",
    "        return MV(dims=A.dims, coefs=coefs)\n",
    "    \n",
    "    def _mul(A,B,reverse):\n",
    "        if isinstance(B,MV):\n",
    "            return A._mul_mv(B,reverse)\n",
    "        elif isinstance(B,V):\n",
    "            return A._mul_vec(B,reverse)\n",
    "        else:\n",
    "            return A._mul_scalar(B)\n",
    "    \n",
    "    def lmul(A,B):\n",
    "        return A._mul(B,True)\n",
    "    \n",
    "    def rmul(A,B):\n",
    "        return A._mul(B,False)\n",
    "    \n",
    "    def __mul__(A,B):\n",
    "        return A.rmul(B)\n",
    "    \n",
    "    def __add__(A,B):\n",
    "        if isinstance(B,MV):\n",
    "            A._check_dims(B)\n",
    "            return MV(dims=A.dims, coefs=[a+b for (a,b) in zip(A,B)])\n",
    "        else:\n",
    "            # Add scalars to the scalar component\n",
    "            return MV(dims=A.dims, coefs=[A[0]+B] + A[1:])\n",
    "    \n",
    "    def __sub__(A,B):\n",
    "        if isinstance(B,MV):\n",
    "            A._check_dims(B)\n",
    "            return MV(dims=A.dims, coefs=[a-b for (a,b) in zip(A,B)])\n",
    "        else:\n",
    "            return MV(dims=A.dims, coefs=[A[0]-B] + A[1:])\n",
    "    \n",
    "    def __imul__(A,B):\n",
    "        if isinstance(B,MV):\n",
    "            A._check_dims(B)\n",
    "            # Special case multiplication by the scalar component of B\n",
    "            for i in range(0,len(A.coefs)):\n",
    "                A.coefs[i] *= B[0]\n",
    "            for i in range(0,len(A.coefs)):\n",
    "                for j in range(1,len(A.coefs)):\n",
    "                    sign,index = blade_mul(i,j)\n",
    "                    A.coefs[index] += sign*A[i]*B[j]\n",
    "        elif isinstance(B,V):\n",
    "            A._check_vec_dims(B)\n",
    "            A._mul_vec_into(B,False,A.coefs)\n",
    "        else:\n",
    "            for i in range(0,len(A.coefs)):\n",
    "                A.coefs[i] *= B\n",
    "        return A\n",
    "    \n",
    "    def  __iadd__(A,B):\n",
    "        if isinstance(B,MV):\n",
    "            A._check_dims(B)\n",
    "            for i in range(0,len(A.coefs)):\n",
    "                A.coefs[i] += B[i]\n",
    "        else:\n",
    "            # Add scalars to the scalar component\n",
    "            A.coefs[0] += B\n",
    "        return A\n",
    "    \n",
    "    def __isub__(A,B):\n",
    "        if isinstance(B,MV):\n",
    "            A._check_dims(B)\n",
    "            for i in range(0,len(A.coefs)):\n",
    "                A.coefs[i] -= B[i]\n",
    "        else:\n",
    "            A.coefs[0] -= B\n",
    "        return A\n",
    "    \n",
    "    def dual(A):\n",
    "        # Take the inverse of I (Assuming I**2 = +-1 either I or -I)\n",
    "        Ix_blade = 2**A.dims - 1\n",
    "        Ix_sign,_ = blade_mul(Ix_blade,Ix_blade)\n",
    "        # Calculate AIx\n",
    "        coefs = [0]*len(A.coefs)\n",
    "        for i in range(0,len(A.coefs)):\n",
    "            sign,index = blade_mul(i,Ix_blade)\n",
    "            coefs[index] = Ix_sign*sign*A[i]\n",
    "        return MV(dims=A.dims,coefs=coefs)\n",
    "    \n",
    "    def v(self):\n",
    "        coefs = [0]*self.dims\n",
    "        for i in range(0,self.dims):\n",
    "            coefs[i] = self[1 << i]\n",
    "        return V(coefs)\n",
    "    \n",
    "    def __repr__(self):\n",
    "        return 'MV(dims=%d, coefs=%r)' % (self.dims, self.coefs)\n",
    "    \n",
    "    def __str__(self):\n",
    "        ordering = natural_ordering(self.dims)\n",
    "        res = []\n",
    "        if self[0] != 0:\n",
    "            res.append(str(self[0]))\n",
    "        for i in ordering[1:]:\n",
    "            if self[i] != 0:\n",
    "                res.append('%g%s' % (self[i], blade_str(i, dims=self.dims)))\n",
    "        return ' + '.join(res) if res else '0'\n",
    "\n",
    "def spinor(axis,angle):\n",
    "    # The dual of the axis is the bivector plane the axis is perpendicular to\n",
    "    # The rotation occurs in this plane\n",
    "    R = axis.mv().dual()\n",
    "    Rx = R*1 # Lazy man's clone\n",
    "    # Spinor is applied twice so half the angle\n",
    "    cosine,sine = math.cos(angle / 2), math.sin(angle / 2)\n",
    "    R *= sine # Scale bivector component\n",
    "    R += cosine # Set scalar component\n",
    "    Rx *= -sine\n",
    "    Rx += cosine\n",
    "    return (Rx,R)\n",
    "\n",
    "def rotate(spinor,v):\n",
    "    Rx,R = spinor\n",
    "    return Rx*v*R"
   ]
  },
  {
   "cell_type": "code",
   "execution_count": 6,
   "metadata": {},
   "outputs": [],
   "source": [
    "assert blade_mul(0b11,0b1)[0] == -1\n",
    "assert blade_mul(0b11,0b10)[0] == 1\n",
    "assert blade_mul(0b11,0b11)[0] == -1\n",
    "assert blade_mul(0b111,0b111)[0] == -1\n",
    "assert blade_mul(0b0,0b11)[0] == 1\n",
    "assert blade_mul(0b11,0b111)[0] == -1\n",
    "assert blade_mul(0b111,0b11)[0] == -1\n",
    "assert blade_mul(0b11,0b11)[0] == -1\n",
    "assert blade_mul(0b101, 0b10)[0] == -1"
   ]
  },
  {
   "cell_type": "code",
   "execution_count": 7,
   "metadata": {},
   "outputs": [
    {
     "data": {
      "text/plain": [
       "MV(dims=3, coefs=[1, 0, 0, 0, 0, 0, 0, 0])"
      ]
     },
     "execution_count": 7,
     "metadata": {},
     "output_type": "execute_result"
    }
   ],
   "source": [
    "V([1,0,0]).mv() * V([1,0,0]).mv()"
   ]
  },
  {
   "cell_type": "code",
   "execution_count": 8,
   "metadata": {},
   "outputs": [
    {
     "data": {
      "text/plain": [
       "'-1I'"
      ]
     },
     "execution_count": 8,
     "metadata": {},
     "output_type": "execute_result"
    }
   ],
   "source": [
    "str(V([0,1,0]).mv() * V([1,0,0]).mv() * V([0,0,1]).mv())"
   ]
  },
  {
   "cell_type": "code",
   "execution_count": 9,
   "metadata": {},
   "outputs": [
    {
     "data": {
      "text/html": [
       "<table>\n",
       "<thead>\n",
       "<tr><th>      </th><th>1     </th><th>σ1     </th><th>σ2     </th><th>σ3     </th><th>σ4    </th><th>σ1σ2   </th><th>σ1σ3   </th><th>σ1σ4   </th><th>σ2σ3   </th><th>σ2σ4   </th><th>σ3σ4   </th><th>σ1σ2σ3  </th><th>σ1σ2σ4  </th><th>σ1σ3σ4  </th><th>σ2σ3σ4  </th><th>I      </th></tr>\n",
       "</thead>\n",
       "<tbody>\n",
       "<tr><td>1     </td><td>1     </td><td>σ1     </td><td>σ2     </td><td>σ3     </td><td>σ4    </td><td>σ1σ2   </td><td>σ1σ3   </td><td>σ1σ4   </td><td>σ2σ3   </td><td>σ2σ4   </td><td>σ3σ4   </td><td>σ1σ2σ3  </td><td>σ1σ2σ4  </td><td>σ1σ3σ4  </td><td>σ2σ3σ4  </td><td>I      </td></tr>\n",
       "<tr><td>σ1    </td><td>σ1    </td><td>1      </td><td>σ1σ2   </td><td>σ1σ3   </td><td>σ1σ4  </td><td>σ2     </td><td>σ3     </td><td>σ4     </td><td>σ1σ2σ3 </td><td>σ1σ2σ4 </td><td>σ1σ3σ4 </td><td>σ2σ3    </td><td>σ2σ4    </td><td>σ3σ4    </td><td>I       </td><td>σ2σ3σ4 </td></tr>\n",
       "<tr><td>σ2    </td><td>σ2    </td><td>-σ1σ2  </td><td>1      </td><td>σ2σ3   </td><td>σ2σ4  </td><td>-σ1    </td><td>-σ1σ2σ3</td><td>-σ1σ2σ4</td><td>σ3     </td><td>σ4     </td><td>σ2σ3σ4 </td><td>-σ1σ3   </td><td>-σ1σ4   </td><td>-I      </td><td>σ3σ4    </td><td>-σ1σ3σ4</td></tr>\n",
       "<tr><td>σ3    </td><td>σ3    </td><td>-σ1σ3  </td><td>-σ2σ3  </td><td>1      </td><td>σ3σ4  </td><td>σ1σ2σ3 </td><td>-σ1    </td><td>-σ1σ3σ4</td><td>-σ2    </td><td>-σ2σ3σ4</td><td>σ4     </td><td>σ1σ2    </td><td>I       </td><td>-σ1σ4   </td><td>-σ2σ4   </td><td>σ1σ2σ4 </td></tr>\n",
       "<tr><td>σ4    </td><td>σ4    </td><td>-σ1σ4  </td><td>-σ2σ4  </td><td>-σ3σ4  </td><td>1     </td><td>σ1σ2σ4 </td><td>σ1σ3σ4 </td><td>-σ1    </td><td>σ2σ3σ4 </td><td>-σ2    </td><td>-σ3    </td><td>-I      </td><td>σ1σ2    </td><td>σ1σ3    </td><td>σ2σ3    </td><td>-σ1σ2σ3</td></tr>\n",
       "<tr><td>σ1σ2  </td><td>σ1σ2  </td><td>-σ2    </td><td>σ1     </td><td>σ1σ2σ3 </td><td>σ1σ2σ4</td><td>-1     </td><td>-σ2σ3  </td><td>-σ2σ4  </td><td>σ1σ3   </td><td>σ1σ4   </td><td>I      </td><td>-σ3     </td><td>-σ4     </td><td>-σ2σ3σ4 </td><td>σ1σ3σ4  </td><td>-σ3σ4  </td></tr>\n",
       "<tr><td>σ1σ3  </td><td>σ1σ3  </td><td>-σ3    </td><td>-σ1σ2σ3</td><td>σ1     </td><td>σ1σ3σ4</td><td>σ2σ3   </td><td>-1     </td><td>-σ3σ4  </td><td>-σ1σ2  </td><td>-I     </td><td>σ1σ4   </td><td>σ2      </td><td>σ2σ3σ4  </td><td>-σ4     </td><td>-σ1σ2σ4 </td><td>σ2σ4   </td></tr>\n",
       "<tr><td>σ1σ4  </td><td>σ1σ4  </td><td>-σ4    </td><td>-σ1σ2σ4</td><td>-σ1σ3σ4</td><td>σ1    </td><td>σ2σ4   </td><td>σ3σ4   </td><td>-1     </td><td>I      </td><td>-σ1σ2  </td><td>-σ1σ3  </td><td>-σ2σ3σ4 </td><td>σ2      </td><td>σ3      </td><td>σ1σ2σ3  </td><td>-σ2σ3  </td></tr>\n",
       "<tr><td>σ2σ3  </td><td>σ2σ3  </td><td>σ1σ2σ3 </td><td>-σ3    </td><td>σ2     </td><td>σ2σ3σ4</td><td>-σ1σ3  </td><td>σ1σ2   </td><td>I      </td><td>-1     </td><td>-σ3σ4  </td><td>σ2σ4   </td><td>-σ1     </td><td>-σ1σ3σ4 </td><td>σ1σ2σ4  </td><td>-σ4     </td><td>-σ1σ4  </td></tr>\n",
       "<tr><td>σ2σ4  </td><td>σ2σ4  </td><td>σ1σ2σ4 </td><td>-σ4    </td><td>-σ2σ3σ4</td><td>σ2    </td><td>-σ1σ4  </td><td>-I     </td><td>σ1σ2   </td><td>σ3σ4   </td><td>-1     </td><td>-σ2σ3  </td><td>σ1σ3σ4  </td><td>-σ1     </td><td>-σ1σ2σ3 </td><td>σ3      </td><td>σ1σ3   </td></tr>\n",
       "<tr><td>σ3σ4  </td><td>σ3σ4  </td><td>σ1σ3σ4 </td><td>σ2σ3σ4 </td><td>-σ4    </td><td>σ3    </td><td>I      </td><td>-σ1σ4  </td><td>σ1σ3   </td><td>-σ2σ4  </td><td>σ2σ3   </td><td>-1     </td><td>-σ1σ2σ4 </td><td>σ1σ2σ3  </td><td>-σ1     </td><td>-σ2     </td><td>-σ1σ2  </td></tr>\n",
       "<tr><td>σ1σ2σ3</td><td>σ1σ2σ3</td><td>σ2σ3   </td><td>-σ1σ3  </td><td>σ1σ2   </td><td>I     </td><td>-σ3    </td><td>σ2     </td><td>σ2σ3σ4 </td><td>-σ1    </td><td>-σ1σ3σ4</td><td>σ1σ2σ4 </td><td>-1      </td><td>-σ3σ4   </td><td>σ2σ4    </td><td>-σ1σ4   </td><td>-σ4    </td></tr>\n",
       "<tr><td>σ1σ2σ4</td><td>σ1σ2σ4</td><td>σ2σ4   </td><td>-σ1σ4  </td><td>-I     </td><td>σ1σ2  </td><td>-σ4    </td><td>-σ2σ3σ4</td><td>σ2     </td><td>σ1σ3σ4 </td><td>-σ1    </td><td>-σ1σ2σ3</td><td>σ3σ4    </td><td>-1      </td><td>-σ2σ3   </td><td>σ1σ3    </td><td>σ3     </td></tr>\n",
       "<tr><td>σ1σ3σ4</td><td>σ1σ3σ4</td><td>σ3σ4   </td><td>I      </td><td>-σ1σ4  </td><td>σ1σ3  </td><td>σ2σ3σ4 </td><td>-σ4    </td><td>σ3     </td><td>-σ1σ2σ4</td><td>σ1σ2σ3 </td><td>-σ1    </td><td>-σ2σ4   </td><td>σ2σ3    </td><td>-1      </td><td>-σ1σ2   </td><td>-σ2    </td></tr>\n",
       "<tr><td>σ2σ3σ4</td><td>σ2σ3σ4</td><td>-I     </td><td>σ3σ4   </td><td>-σ2σ4  </td><td>σ2σ3  </td><td>-σ1σ3σ4</td><td>σ1σ2σ4 </td><td>-σ1σ2σ3</td><td>-σ4    </td><td>σ3     </td><td>-σ2    </td><td>σ1σ4    </td><td>-σ1σ3   </td><td>σ1σ2    </td><td>-1      </td><td>σ1     </td></tr>\n",
       "<tr><td>I     </td><td>I     </td><td>-σ2σ3σ4</td><td>σ1σ3σ4 </td><td>-σ1σ2σ4</td><td>σ1σ2σ3</td><td>-σ3σ4  </td><td>σ2σ4   </td><td>-σ2σ3  </td><td>-σ1σ4  </td><td>σ1σ3   </td><td>-σ1σ2  </td><td>σ4      </td><td>-σ3     </td><td>σ2      </td><td>-σ1     </td><td>1      </td></tr>\n",
       "</tbody>\n",
       "</table>"
      ],
      "text/plain": [
       "<IPython.core.display.HTML object>"
      ]
     },
     "metadata": {},
     "output_type": "display_data"
    }
   ],
   "source": [
    "from IPython.display import HTML, display\n",
    "import tabulate\n",
    "display(HTML(tabulate.tabulate(mult_table(4), tablefmt='html', headers='firstrow')))"
   ]
  },
  {
   "cell_type": "code",
   "execution_count": 10,
   "metadata": {},
   "outputs": [
    {
     "data": {
      "text/plain": [
       "'A = 1σ1σ2, A* = 1σ3'"
      ]
     },
     "execution_count": 10,
     "metadata": {},
     "output_type": "execute_result"
    }
   ],
   "source": [
    "# Dual of basis vector e12 should be e3\n",
    "A = V([1,0,0]).mv() * V([0,1,0])\n",
    "Ax = A.dual()\n",
    "'A = %s, A* = %s' % (A,Ax)"
   ]
  },
  {
   "cell_type": "code",
   "execution_count": 11,
   "metadata": {},
   "outputs": [
    {
     "data": {
      "text/plain": [
       "'A = 22 + 1σ1σ3 + 1σ2σ3, A* = 1σ1 + -1σ2 + -22I, cp = 1σ1 + -1σ2'"
      ]
     },
     "execution_count": 11,
     "metadata": {},
     "output_type": "execute_result"
    }
   ],
   "source": [
    "A = V([1,1,4]).mv() * V([1,1,5])\n",
    "'A = %s, A* = %s, cp = %s' % (A, A.dual(), V([1,1,4]).cross(V([1,1,5])))"
   ]
  },
  {
   "cell_type": "code",
   "execution_count": 12,
   "metadata": {},
   "outputs": [
    {
     "data": {
      "text/plain": [
       "'-1σ1σ2'"
      ]
     },
     "execution_count": 12,
     "metadata": {},
     "output_type": "execute_result"
    }
   ],
   "source": [
    "str(V([0,0,1]).mv().dual())"
   ]
  },
  {
   "cell_type": "code",
   "execution_count": 13,
   "metadata": {},
   "outputs": [
    {
     "data": {
      "text/plain": [
       "\"R = 0.9238795325112867 + -0.382683σ1σ2, R* = 0.9238795325112867 + 0.382683σ1σ2, v' = 0.707107σ1 + -0.707107σ2\""
      ]
     },
     "execution_count": 13,
     "metadata": {},
     "output_type": "execute_result"
    }
   ],
   "source": [
    "Rx,R = spinor(V([0,0,1]), math.pi / 4)\n",
    "v = V([1,0,0])\n",
    "vx = rotate((Rx,R), v)\n",
    "\"R = %s, R* = %s, v' = %s\" % (R,Rx,vx)"
   ]
  },
  {
   "cell_type": "code",
   "execution_count": null,
   "metadata": {},
   "outputs": [],
   "source": []
  }
 ],
 "metadata": {
  "kernelspec": {
   "display_name": "Python 3",
   "language": "python",
   "name": "python3"
  },
  "language_info": {
   "codemirror_mode": {
    "name": "ipython",
    "version": 3
   },
   "file_extension": ".py",
   "mimetype": "text/x-python",
   "name": "python",
   "nbconvert_exporter": "python",
   "pygments_lexer": "ipython3",
   "version": "3.5.4"
  }
 },
 "nbformat": 4,
 "nbformat_minor": 2
}
